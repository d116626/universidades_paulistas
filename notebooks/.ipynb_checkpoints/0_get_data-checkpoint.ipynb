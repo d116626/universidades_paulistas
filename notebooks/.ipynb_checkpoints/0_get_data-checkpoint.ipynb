{
 "cells": [
  {
   "cell_type": "code",
   "execution_count": 2,
   "metadata": {},
   "outputs": [],
   "source": [
    "import pandas as pd\n",
    "import numpy as np\n",
    "\n",
    "import rows\n",
    "\n",
    "pd.set_option('display.max_rows', 500)\n",
    "pd.set_option('display.max_columns', 500)\n",
    "\n",
    "import warnings\n",
    "warnings.filterwarnings('ignore')\n",
    "\n",
    "from tabula import read_pdf\n",
    "import camelot\n",
    "\n",
    "import qgrid\n",
    "def qg(df):\n",
    "    return(qgrid.show_grid(df,show_toolbar=True, grid_options={'forceFitColumns': False}))\n",
    "\n",
    "import matplotlib.pyplot as plt"
   ]
  },
  {
   "cell_type": "markdown",
   "metadata": {},
   "source": [
    "## Itens Necessários para análise\n",
    "-  orçamento total obrigatório e discricionário\n",
    "-  alunos matriculados, vagas no vestibular e alunos formandos, tudo aberto por curso, discriminado o número de anos previsto para conclusão\n",
    "\n",
    "----\n",
    "## Dados\n",
    "\n",
    "#### UNICAMP\n",
    "- [Anuarios](https://www.aeplan.unicamp.br/anuario/anuario.php)\n",
    "\n",
    "#### USP\n",
    "- [Orçamento](http://www.usp.br/codage/?q=node/35)\n",
    "- [Anuarios](https://uspdigital.usp.br/anuario/AnuarioControle)\n",
    "\n",
    "#### UNESP\n",
    "- [Anuarios](https://ape.unesp.br/anuario/)"
   ]
  },
  {
   "cell_type": "markdown",
   "metadata": {},
   "source": [
    "#### Unicamp\n",
    "\n",
    "- Vestibular\n",
    "    (1) A partir de 2019 a UNICAMP passou a adotar 4 formas de ingresso (Vestibular, ENEM-UNICAMP, Vestibular Indígena e Vagas Olímpicas). Foram oferecidas 3.396 vaga para ingresso nos cursos de graduação da UNICAMP, distribuídas nos seguintes sistemas de ingresso: 2.589 vagas oferecidas pelo Vestibular, 645 vagas para ENEM-UNICAMP, 23 vagas para Vestibular Indígena (mais 49 vagas adicionais); e 83 vagas para Vagas Olímpicas (mais 7 vagas adicionais). O candidato inscrito está contado uma única vez, através de seu CPF, independente da forma de ingresso e curso escolhido.\n",
    "- (2) As vagas regulares não preenchidas, do Vestibular Indígena e das Vagas Olímpicas, voltaram a estar disponiveis para preenchimento pelo Vestibular UNICAMP 2019. As vagas adicionais não preenchidas, do Vestibular Indígena e das Vagas Olímpicas, por serem de preenchimento facultativo não foram transferidas para o Vestibular UNICAM 2019.\n"
   ]
  },
  {
   "cell_type": "code",
   "execution_count": null,
   "metadata": {},
   "outputs": [],
   "source": []
  },
  {
   "cell_type": "markdown",
   "metadata": {
    "toc-hr-collapsed": false
   },
   "source": [
    "# Unicamp"
   ]
  },
  {
   "cell_type": "markdown",
   "metadata": {
    "toc-hr-collapsed": false
   },
   "source": [
    "## Vestibular"
   ]
  },
  {
   "cell_type": "code",
   "execution_count": 19,
   "metadata": {},
   "outputs": [],
   "source": [
    "dd = camelot.read_pdf('files/unicamp_anuario_2019.pdf', pages='28-30', flavor='stream', )"
   ]
  },
  {
   "cell_type": "code",
   "execution_count": 53,
   "metadata": {},
   "outputs": [],
   "source": [
    "df = pd.DataFrame()\n",
    "\n",
    "for i in range(len(dd)):\n",
    "    df = pd.concat([df,dd[i].df], axis=0)\n",
    "    \n",
    "df = df.reset_index(drop=True)"
   ]
  },
  {
   "cell_type": "code",
   "execution_count": 61,
   "metadata": {},
   "outputs": [],
   "source": [
    "mask = (df[3]!='') & (df[1]!='') & (df[1]!='TOTAL')\n",
    "df2 = df[mask]\n",
    "\n",
    "df2[3] = df2[3].str.replace('.','').astype(float)\n",
    "\n",
    "df2 = df2.drop(columns=[0,9,12,13,14,15])"
   ]
  },
  {
   "cell_type": "code",
   "execution_count": 63,
   "metadata": {},
   "outputs": [],
   "source": [
    "rename_cols = {\n",
    "    1:'curso',\n",
    "    2:'periodo',\n",
    "    3:'incritos_vestibular',\n",
    "    4:'incritos_enem',\n",
    "    5:'incritos_indigena',\n",
    "    6:'incritos_olimpiada',\n",
    "    7:'vagas_vestibular',\n",
    "    8:'vagas_enem',\n",
    "    10:'vagas_indigena',\n",
    "    11:'vagas_olimpiada',\n",
    "    \n",
    "}\n",
    "\n",
    "df2 = df2.rename(columns=rename_cols)"
   ]
  },
  {
   "cell_type": "code",
   "execution_count": 67,
   "metadata": {},
   "outputs": [],
   "source": [
    "df2['ano']=2019"
   ]
  },
  {
   "cell_type": "markdown",
   "metadata": {},
   "source": [
    "#### 2018 a 2009"
   ]
  },
  {
   "cell_type": "code",
   "execution_count": 72,
   "metadata": {},
   "outputs": [],
   "source": [
    "dd = camelot.read_pdf('files/unicamp_anuario_2018.pdf', pages='28-34', flavor='stream', )"
   ]
  },
  {
   "cell_type": "code",
   "execution_count": 160,
   "metadata": {},
   "outputs": [],
   "source": [
    "df = pd.DataFrame()\n",
    "\n",
    "for i in range(len(dd)):\n",
    "    df = pd.concat([df,dd[i].df], axis=0)\n",
    "    \n",
    "df = df.reset_index(drop=True)"
   ]
  },
  {
   "cell_type": "code",
   "execution_count": 196,
   "metadata": {},
   "outputs": [],
   "source": [
    "mask = (df[13]!='') & (df[3]!='Relação Candidatos / Vaga') & (df[4]!='2009')\n",
    "df2 = df[mask]\n",
    "\n",
    "df2 = df2.drop(columns=[0])\n",
    "\n",
    "rename_cols = {\n",
    "    1:'curso',\n",
    "    2:'periodo',\n",
    "    3:'col',\n",
    "    4:2009,\n",
    "    5:2010,\n",
    "    6:2011,\n",
    "    7:2012,\n",
    "    8:2013,\n",
    "    9:2014,\n",
    "    10:2015,\n",
    "    11:2016,\n",
    "    12:2017,\n",
    "    13:2018\n",
    "}\n",
    "\n",
    "df2 = df2.rename(columns=rename_cols)\n",
    "\n",
    "cursos = df2['curso'].tolist()\n",
    "\n",
    "curso_final=[]\n",
    "for i in range(len(cursos)-1):\n",
    "    if cursos[i]=='':\n",
    "        curso_final.append(cursos[i])\n",
    "    else:\n",
    "        if cursos[i+1]!='':\n",
    "            curso_final.append(cursos[i] + \" \" + cursos[i+1])\n",
    "        else:\n",
    "            curso_final.append(cursos[i])\n",
    "\n",
    "\n",
    "curso_final.append(np.nan)\n",
    "\n",
    "# df2['curso_errado']= df2['curso']\n",
    "df2['curso']= curso_final\n",
    "\n",
    "df2 = df2.reset_index(drop=True)\n",
    "df2 = df2.drop(index=10)\n",
    "mask = df2[2018]!='Fonte: COMVEST'\n",
    "df2 = df2[mask]\n",
    "\n",
    "df2 = df2.reset_index(drop=True)\n",
    "\n",
    "df2['curso']= np.where(df2.index%2==1, np.nan, df2['curso'])\n",
    "df2['periodo']= np.where(df2.index%2==1, np.nan, df2['periodo'])\n",
    "\n",
    "df2['curso'] = df2['curso'].fillna(method='ffill')\n",
    "df2['periodo'] = df2['periodo'].fillna(method='ffill')"
   ]
  },
  {
   "cell_type": "code",
   "execution_count": 252,
   "metadata": {},
   "outputs": [],
   "source": [
    "cursos   = df2['curso'].tolist()\n",
    "periodos = df2['periodo'].tolist()\n",
    "\n",
    "years = [i+1 for i in range(2008,2018)]\n",
    "\n",
    "df_final = pd.DataFrame()\n",
    "\n",
    "for i in range(len(cursos)):\n",
    "    curso = cursos[i]\n",
    "    periodo = periodos[i]\n",
    "#     print(curso)\n",
    "    for year in years:\n",
    "        df_f = pd.DataFrame([curso], columns=['curso'])\n",
    "        df_f['periodo']= periodo\n",
    "        \n",
    "        mask = (df2['curso']==curso) & (df2['col']=='Vagas')\n",
    "        df_f['vagas'] =  df2[mask][year].values[0]\n",
    "        \n",
    "        mask = (df2['curso']==curso) & (df2['col']=='Candidatos')\n",
    "        df_f['candidatos'] =  df2[mask][year].values[0]\n",
    "        \n",
    "        df_f['ano'] = year\n",
    "        \n",
    "        df_final = pd.concat([df_final,df_f],axis=0)"
   ]
  },
  {
   "cell_type": "code",
   "execution_count": 253,
   "metadata": {},
   "outputs": [],
   "source": [
    "df_final = df_final.drop_duplicates(subset=df_final.columns).reset_index(drop=True)"
   ]
  },
  {
   "cell_type": "code",
   "execution_count": 256,
   "metadata": {},
   "outputs": [],
   "source": [
    "# df_final.to_excel('unicamp_vestibular_2009_2018.xlsx', index=False, encoding='utf-8')"
   ]
  },
  {
   "cell_type": "code",
   "execution_count": null,
   "metadata": {},
   "outputs": [],
   "source": []
  },
  {
   "cell_type": "markdown",
   "metadata": {},
   "source": [
    "### Vagas 2009 - 2018"
   ]
  },
  {
   "cell_type": "code",
   "execution_count": 590,
   "metadata": {},
   "outputs": [],
   "source": [
    "dd = camelot.read_pdf('files/unicamp_anuario_2019.pdf', pages='48-51', flavor='stream')"
   ]
  },
  {
   "cell_type": "code",
   "execution_count": 591,
   "metadata": {},
   "outputs": [],
   "source": [
    "df = pd.DataFrame()\n",
    "\n",
    "for i in range(len(dd)):\n",
    "    df = pd.concat([df,dd[i].df], axis=0)\n",
    "    \n",
    "df = df.reset_index(drop=True)\n",
    "\n",
    "# df.loc[83:115] = df.loc[83:115].shift(1,axis=1)\n",
    "df = df.drop(index=[i for i in range(115,132)], columns=[0])\n",
    "df.columns = df.loc[0].tolist()\n"
   ]
  },
  {
   "cell_type": "code",
   "execution_count": 597,
   "metadata": {},
   "outputs": [],
   "source": [
    "mask = (df[df.columns[0]]!='') & (df['PERÍODO']!='PERÍODO') & (df['PERÍODO']!='')\n",
    "df2 = df[mask]\n",
    "\n",
    "cols_rename = {\n",
    "    df.columns[0]:'curso',\n",
    "    df.columns[1]:'periodo'\n",
    "    \n",
    "}\n",
    "df2 = df2.rename(columns=cols_rename)"
   ]
  },
  {
   "cell_type": "code",
   "execution_count": 598,
   "metadata": {},
   "outputs": [],
   "source": [
    "df2['curso'] = df2['curso'].replace(df2['curso'].tolist()[-1], 'Física/Matemática/Mat. Aplicada e Computacional/Engenharia, Física/Física: Médica e Biomédica')\n",
    "df2['curso'] = df2['curso'].str.replace('\\d','', regex=True).str.strip('()').str.strip()"
   ]
  },
  {
   "cell_type": "code",
   "execution_count": 600,
   "metadata": {},
   "outputs": [],
   "source": [
    "cursos   = df2['curso'].tolist()\n",
    "periodos = df2['periodo'].tolist()\n",
    "\n",
    "years = [str(i+1) for i in range(2008,2018)]\n",
    "\n",
    "df_final = pd.DataFrame()\n",
    "\n",
    "for i in range(len(cursos)):\n",
    "    curso = cursos[i]\n",
    "    periodo = periodos[i]\n",
    "#     print(curso)\n",
    "    for year in years:\n",
    "        df_f = pd.DataFrame([curso], columns=['curso'])\n",
    "        df_f['periodo']= periodo\n",
    "        \n",
    "        mask = (df2['curso']==curso)\n",
    "        df_f['vagas'] =  df2[mask][year].values[0]\n",
    "        \n",
    "        df_f['ano_base'] = year\n",
    "        \n",
    "        df_final = pd.concat([df_final,df_f],axis=0)"
   ]
  },
  {
   "cell_type": "code",
   "execution_count": 601,
   "metadata": {},
   "outputs": [],
   "source": [
    "df_final = df_final.drop_duplicates(subset=df_final.columns).reset_index(drop=True)"
   ]
  },
  {
   "cell_type": "code",
   "execution_count": 603,
   "metadata": {},
   "outputs": [],
   "source": [
    "# df_final.to_excel('dados/unicamp_vestibular_2009_2018.xlsx', index=False)"
   ]
  },
  {
   "cell_type": "code",
   "execution_count": null,
   "metadata": {},
   "outputs": [],
   "source": []
  },
  {
   "cell_type": "code",
   "execution_count": null,
   "metadata": {},
   "outputs": [],
   "source": []
  },
  {
   "cell_type": "code",
   "execution_count": null,
   "metadata": {},
   "outputs": [],
   "source": []
  },
  {
   "cell_type": "markdown",
   "metadata": {},
   "source": [
    "## Alunos 2018"
   ]
  },
  {
   "cell_type": "code",
   "execution_count": 412,
   "metadata": {},
   "outputs": [],
   "source": [
    "dd = camelot.read_pdf('files/unicamp_anuario_2019.pdf', pages='53-59', flavor='stream', )"
   ]
  },
  {
   "cell_type": "code",
   "execution_count": 413,
   "metadata": {},
   "outputs": [],
   "source": [
    "df = pd.DataFrame()\n",
    "\n",
    "for i in range(len(dd)):\n",
    "    df = pd.concat([df,dd[i].df], axis=0)\n",
    "    \n",
    "df = df.reset_index(drop=True)\n",
    "\n",
    "df.loc[83:115] = df.loc[83:115].shift(1,axis=1)"
   ]
  },
  {
   "cell_type": "code",
   "execution_count": 414,
   "metadata": {},
   "outputs": [],
   "source": [
    "mask = (df[4]!='')&(df[0]!='UNIDADES') & (df[1]!='OPÇÃO POR INGRESSO')\n",
    "df2 = df[mask]"
   ]
  },
  {
   "cell_type": "code",
   "execution_count": 415,
   "metadata": {},
   "outputs": [],
   "source": [
    "df2[1] = np.where(df2[1]=='',df2[0],df2[1] )\n",
    "\n",
    "df2 = df2[[1,2,3,4,5]]"
   ]
  },
  {
   "cell_type": "code",
   "execution_count": 417,
   "metadata": {},
   "outputs": [],
   "source": [
    "df2 = df2.drop(index=[84,194,195,196])"
   ]
  },
  {
   "cell_type": "code",
   "execution_count": 419,
   "metadata": {},
   "outputs": [],
   "source": [
    "df2[1] = df2[1].replace(df2[1].tolist()[-1], 'Física/Matemática/Mat. Aplicada e Computacional/Engenharia, Física/Física: Médica e Biomédica')"
   ]
  },
  {
   "cell_type": "code",
   "execution_count": 420,
   "metadata": {},
   "outputs": [],
   "source": [
    "cols_rename = {\n",
    "    1:'curso',\n",
    "    2:'periodo',\n",
    "    3:'ingressantes',\n",
    "    4:'matriculados',\n",
    "    5:'concluintes'\n",
    "}\n",
    "df2 = df2.rename(columns=cols_rename)\n",
    "\n",
    "df2['ano_base'] = 2018"
   ]
  },
  {
   "cell_type": "code",
   "execution_count": 422,
   "metadata": {},
   "outputs": [],
   "source": [
    "# df2.to_excel('unicamp_alunos_2018_graduação.xlsx', index=False)"
   ]
  },
  {
   "cell_type": "code",
   "execution_count": null,
   "metadata": {},
   "outputs": [],
   "source": []
  },
  {
   "cell_type": "markdown",
   "metadata": {
    "toc-hr-collapsed": false
   },
   "source": [
    "## Alunos 2017"
   ]
  },
  {
   "cell_type": "code",
   "execution_count": 423,
   "metadata": {},
   "outputs": [],
   "source": [
    "dd = camelot.read_pdf('files/unicamp_anuario_2018.pdf', pages='59-65', flavor='stream', )"
   ]
  },
  {
   "cell_type": "code",
   "execution_count": 426,
   "metadata": {},
   "outputs": [],
   "source": [
    "df = pd.DataFrame()\n",
    "\n",
    "for i in range(len(dd)):\n",
    "    df = pd.concat([df,dd[i].df], axis=0)\n",
    "    \n",
    "df = df.reset_index(drop=True)\n",
    "\n",
    "df.loc[84:115] = df.loc[84:115].shift(1,axis=1)"
   ]
  },
  {
   "cell_type": "code",
   "execution_count": 439,
   "metadata": {},
   "outputs": [],
   "source": [
    "mask = (df[4]!='')&(df[0]!='UNIDADES') & (df[1]!='OPÇÃO POR INGRESSO') & (df[2]!='PERÍODO')\n",
    "df2 = df[mask]"
   ]
  },
  {
   "cell_type": "code",
   "execution_count": 440,
   "metadata": {},
   "outputs": [],
   "source": [
    "df2[1] = np.where(df2[1]=='',df2[0],df2[1] )\n",
    "\n",
    "df2 = df2[[1,2,3,4,5]]"
   ]
  },
  {
   "cell_type": "code",
   "execution_count": 441,
   "metadata": {},
   "outputs": [],
   "source": [
    "df2 = df2.drop(index=[195,196,197])\n",
    "df2[1] = df2[1].replace(df2[1].tolist()[-1], 'Física/Matemática/Mat. Aplicada e Computacional/Engenharia, Física/Física: Médica e Biomédica')"
   ]
  },
  {
   "cell_type": "code",
   "execution_count": 443,
   "metadata": {},
   "outputs": [],
   "source": [
    "cols_rename = {\n",
    "    1:'curso',\n",
    "    2:'periodo',\n",
    "    3:'ingressantes',\n",
    "    4:'matriculados',\n",
    "    5:'concluintes'\n",
    "}\n",
    "df2 = df2.rename(columns=cols_rename)\n",
    "\n",
    "df2['ano_base'] = 2017"
   ]
  },
  {
   "cell_type": "code",
   "execution_count": 445,
   "metadata": {},
   "outputs": [],
   "source": [
    "# df2.to_excel('unicamp_alunos_2017_graduação.xlsx', index=False)"
   ]
  },
  {
   "cell_type": "code",
   "execution_count": null,
   "metadata": {},
   "outputs": [],
   "source": []
  },
  {
   "cell_type": "code",
   "execution_count": null,
   "metadata": {},
   "outputs": [],
   "source": []
  },
  {
   "cell_type": "markdown",
   "metadata": {
    "toc-hr-collapsed": false
   },
   "source": [
    "## Alunos 2016"
   ]
  },
  {
   "cell_type": "code",
   "execution_count": 446,
   "metadata": {},
   "outputs": [],
   "source": [
    "dd = camelot.read_pdf('files/unicamp_anuario_2017.pdf', pages='59-65', flavor='stream', )"
   ]
  },
  {
   "cell_type": "code",
   "execution_count": 449,
   "metadata": {},
   "outputs": [],
   "source": [
    "df = pd.DataFrame()\n",
    "\n",
    "for i in range(len(dd)):\n",
    "    df = pd.concat([df,dd[i].df], axis=0)\n",
    "    \n",
    "df = df.reset_index(drop=True)\n",
    "\n",
    "df.loc[85:116] = df.loc[85:116].shift(1,axis=1)"
   ]
  },
  {
   "cell_type": "code",
   "execution_count": 464,
   "metadata": {},
   "outputs": [],
   "source": [
    "mask = (df[4]!='')&(df[0]!='UNIDADES') & (df[1]!='OPÇÃO POR INGRESSO') & (df[2]!='PERÍODO')\n",
    "df2 = df[mask]"
   ]
  },
  {
   "cell_type": "code",
   "execution_count": 465,
   "metadata": {},
   "outputs": [],
   "source": [
    "df2[1] = np.where(df2[1]=='',df2[0],df2[1] )\n",
    "\n",
    "df2 = df2[[1,2,3,4,5]]"
   ]
  },
  {
   "cell_type": "code",
   "execution_count": 466,
   "metadata": {},
   "outputs": [],
   "source": [
    "df2 = df2.drop(index=[193,194,195])\n",
    "df2[1] = df2[1].replace(df2[1].tolist()[-1], 'Física/Matemática/Mat. Aplicada e Computacional/Engenharia, Física/Física: Médica e Biomédica')"
   ]
  },
  {
   "cell_type": "code",
   "execution_count": 467,
   "metadata": {},
   "outputs": [],
   "source": [
    "cols_rename = {\n",
    "    1:'curso',\n",
    "    2:'periodo',\n",
    "    3:'ingressantes',\n",
    "    4:'matriculados',\n",
    "    5:'concluintes'\n",
    "}\n",
    "df2 = df2.rename(columns=cols_rename)\n",
    "\n",
    "df2['ano_base'] = 2016"
   ]
  },
  {
   "cell_type": "code",
   "execution_count": 115,
   "metadata": {},
   "outputs": [],
   "source": [
    "# df2.to_excel('unicamp_alunos_2016_graduação.xlsx', index=False)"
   ]
  },
  {
   "cell_type": "markdown",
   "metadata": {},
   "source": [
    "### Merge Data"
   ]
  },
  {
   "cell_type": "code",
   "execution_count": 725,
   "metadata": {},
   "outputs": [],
   "source": [
    "df_2016 = pd.read_excel('dados/unicamp_alunos_2016_graduação.xlsx', dtype={'matriculados':int})\n",
    "df_2017 = pd.read_excel('dados/unicamp_alunos_2017_graduação.xlsx', dtype={'matriculados':int})\n",
    "df_2018 = pd.read_excel('dados/unicamp_alunos_2018_graduação.xlsx', dtype={'matriculados':int})\n",
    "\n",
    "\n",
    "\n",
    "df_final = pd.concat([df_2016,df_2017], axis=0)\n",
    "df_final = pd.concat([df_final,df_2018], axis=0)\n",
    "\n",
    "df_final['curso'] = df_final['curso'].str.replace('\\d','', regex=True).str.strip('()').str.strip().str.replace('  ',' ')\n",
    "df_final['ingressantes'] = pd.to_numeric(df_final['ingressantes'],errors='coerce')\n",
    "df_final['matriculados'] = pd.to_numeric(df_final['matriculados'],errors='coerce')\n",
    "df_final['concluintes'] = pd.to_numeric(df_final['concluintes'],errors='coerce')\n",
    "\n",
    "\n",
    "\n",
    "\n",
    "df_final['curso'] = df_final['curso'].str.replace('Letras – Licenciatura','Letras')\n",
    "\n",
    "df_final = df_final.groupby(by=['curso','periodo','ano_base'], as_index=False).sum()"
   ]
  },
  {
   "cell_type": "code",
   "execution_count": 733,
   "metadata": {},
   "outputs": [],
   "source": [
    "df_vagas=pd.read_excel('dados/unicamp_vestibular_2009_2018.xlsx')\n",
    "df_vagas['curso'] = df_vagas['curso'].str.replace('\\d','', regex=True).str.strip('()').str.strip().str.replace('  ',' ').str.replace('(','', regex=True).str.replace('CI','', regex=True).str.strip()\n",
    "\n",
    "df_vagas['ano_base'] = df_vagas['ano_base'].astype(int)\n",
    "df_vagas['curso'] = np.where(df_vagas['curso'].str.contains('Música'), 'Música', df_vagas['curso'])\n",
    "df_vagas['vagas'] = pd.to_numeric(df_vagas['vagas'],errors='coerce')\n",
    "\n",
    "mask = df_vagas['ano_base']>=2016\n",
    "df_vagas = df_vagas[mask]\n",
    "\n",
    "df_vagas['curso'] = df_vagas['curso'].str.replace('Física – Licenciatura','Licenciatura em Física').str.replace('Tec. em Análise e Desenvolvimento de Sistemas','Tec. em Análise e Desenvolvim. de Sistemas')\n",
    "df_vagas['curso'] = df_vagas['curso'].str.replace('Tec. em Análise e Desenvolvimento de Sistemas','Tec. em Análise e Desenvolvim. de Sistemas')\n",
    "df_vagas['curso'] = df_vagas['curso'].str.replace('Letras – Licenciatura','Letras')\n",
    "\n",
    "df_vagas = df_vagas.groupby(by=['curso','periodo','ano_base'], as_index=False).sum()"
   ]
  },
  {
   "cell_type": "code",
   "execution_count": 734,
   "metadata": {},
   "outputs": [],
   "source": [
    "df_merge = pd.merge(df_final,df_vagas,how='outer', on=['curso','periodo','ano_base'])"
   ]
  },
  {
   "cell_type": "code",
   "execution_count": 750,
   "metadata": {},
   "outputs": [],
   "source": [
    "mask = (df_merge['vagas'].notnull()) & (df_merge['ingressantes'].notnull())\n",
    "\n",
    "df_merge = df_merge[mask]"
   ]
  },
  {
   "cell_type": "code",
   "execution_count": 752,
   "metadata": {},
   "outputs": [
    {
     "data": {
      "text/html": [
       "<div>\n",
       "<style scoped>\n",
       "    .dataframe tbody tr th:only-of-type {\n",
       "        vertical-align: middle;\n",
       "    }\n",
       "\n",
       "    .dataframe tbody tr th {\n",
       "        vertical-align: top;\n",
       "    }\n",
       "\n",
       "    .dataframe thead th {\n",
       "        text-align: right;\n",
       "    }\n",
       "</style>\n",
       "<table border=\"1\" class=\"dataframe\">\n",
       "  <thead>\n",
       "    <tr style=\"text-align: right;\">\n",
       "      <th></th>\n",
       "      <th>curso</th>\n",
       "      <th>periodo</th>\n",
       "      <th>ano_base</th>\n",
       "      <th>ingressantes</th>\n",
       "      <th>matriculados</th>\n",
       "      <th>concluintes</th>\n",
       "      <th>vagas</th>\n",
       "    </tr>\n",
       "  </thead>\n",
       "  <tbody>\n",
       "    <tr>\n",
       "      <th>223</th>\n",
       "      <td>Tec. em Saneamento Ambiental</td>\n",
       "      <td>(N)</td>\n",
       "      <td>2016</td>\n",
       "      <td>18.0</td>\n",
       "      <td>149.0</td>\n",
       "      <td>23.0</td>\n",
       "      <td>40.0</td>\n",
       "    </tr>\n",
       "    <tr>\n",
       "      <th>224</th>\n",
       "      <td>Tec. em Saneamento Ambiental</td>\n",
       "      <td>(N)</td>\n",
       "      <td>2017</td>\n",
       "      <td>0.0</td>\n",
       "      <td>10.0</td>\n",
       "      <td>7.0</td>\n",
       "      <td>40.0</td>\n",
       "    </tr>\n",
       "    <tr>\n",
       "      <th>225</th>\n",
       "      <td>Tec. em Saneamento Ambiental</td>\n",
       "      <td>(N)</td>\n",
       "      <td>2018</td>\n",
       "      <td>27.0</td>\n",
       "      <td>95.0</td>\n",
       "      <td>15.0</td>\n",
       "      <td>40.0</td>\n",
       "    </tr>\n",
       "    <tr>\n",
       "      <th>227</th>\n",
       "      <td>Tec. em Sistemas de Telecomunicações</td>\n",
       "      <td>(D)</td>\n",
       "      <td>2016</td>\n",
       "      <td>0.0</td>\n",
       "      <td>13.0</td>\n",
       "      <td>11.0</td>\n",
       "      <td>0.0</td>\n",
       "    </tr>\n",
       "    <tr>\n",
       "      <th>228</th>\n",
       "      <td>Tec. em Sistemas de Telecomunicações</td>\n",
       "      <td>(D)</td>\n",
       "      <td>2017</td>\n",
       "      <td>0.0</td>\n",
       "      <td>2.0</td>\n",
       "      <td>2.0</td>\n",
       "      <td>0.0</td>\n",
       "    </tr>\n",
       "  </tbody>\n",
       "</table>\n",
       "</div>"
      ],
      "text/plain": [
       "                                    curso periodo  ano_base  ingressantes  \\\n",
       "223          Tec. em Saneamento Ambiental     (N)      2016          18.0   \n",
       "224          Tec. em Saneamento Ambiental     (N)      2017           0.0   \n",
       "225          Tec. em Saneamento Ambiental     (N)      2018          27.0   \n",
       "227  Tec. em Sistemas de Telecomunicações     (D)      2016           0.0   \n",
       "228  Tec. em Sistemas de Telecomunicações     (D)      2017           0.0   \n",
       "\n",
       "     matriculados  concluintes  vagas  \n",
       "223         149.0         23.0   40.0  \n",
       "224          10.0          7.0   40.0  \n",
       "225          95.0         15.0   40.0  \n",
       "227          13.0         11.0    0.0  \n",
       "228           2.0          2.0    0.0  "
      ]
     },
     "execution_count": 752,
     "metadata": {},
     "output_type": "execute_result"
    }
   ],
   "source": [
    "df_merge.tail()"
   ]
  },
  {
   "cell_type": "code",
   "execution_count": 754,
   "metadata": {},
   "outputs": [],
   "source": [
    "# df_merge.to_excel('dados/unicamp_graduacao_alunos.xlsx', index=False)"
   ]
  },
  {
   "cell_type": "code",
   "execution_count": null,
   "metadata": {},
   "outputs": [],
   "source": []
  },
  {
   "cell_type": "code",
   "execution_count": null,
   "metadata": {},
   "outputs": [],
   "source": []
  },
  {
   "cell_type": "markdown",
   "metadata": {
    "toc-hr-collapsed": false
   },
   "source": [
    "# USP"
   ]
  },
  {
   "cell_type": "markdown",
   "metadata": {
    "toc-hr-collapsed": false
   },
   "source": [
    "## Vagas e Concluintes"
   ]
  },
  {
   "cell_type": "code",
   "execution_count": 856,
   "metadata": {},
   "outputs": [],
   "source": [
    "dd = camelot.read_pdf('files/usp_anuario_2019.pdf', pages='202-222', flavor='stream',table_areas=['0,557,1000,50'])"
   ]
  },
  {
   "cell_type": "code",
   "execution_count": 857,
   "metadata": {},
   "outputs": [],
   "source": [
    "df = pd.DataFrame()\n",
    "\n",
    "for i in range(len(dd)):\n",
    "    df = pd.concat([df,dd[i].df], axis=0)\n",
    "    \n",
    "df = df.reset_index(drop=True)\n",
    "\n",
    "# df.loc[85:116] = df.loc[85:116].shift(1,axis=1)"
   ]
  },
  {
   "cell_type": "code",
   "execution_count": 858,
   "metadata": {},
   "outputs": [],
   "source": [
    "mask = df[12].isnull()\n",
    "g1 = df[mask]\n",
    "\n",
    "g2 = df[np.logical_not(mask)]"
   ]
  },
  {
   "cell_type": "code",
   "execution_count": 860,
   "metadata": {},
   "outputs": [],
   "source": [
    "rename_cols = {\n",
    "    0:'curso',\n",
    "    1:'2015_vagas',\n",
    "    2:'2015_concluintes',\n",
    "    3:'2016_vagas',\n",
    "    4:'2016_concluintes',\n",
    "    5:'2017_vagas',\n",
    "    6:'2017_concluintes',\n",
    "    7:'2018_vagas',\n",
    "    8:'2018_concluintes',\n",
    "}\n",
    "\n",
    "g1 = g1.rename(columns=rename_cols)\n",
    "g1 = g1.drop(columns=[9,10,11,12])"
   ]
  },
  {
   "cell_type": "code",
   "execution_count": 863,
   "metadata": {},
   "outputs": [],
   "source": [
    "rename_cols = {\n",
    "    0:'curso',\n",
    "    1:'2015_vagas',\n",
    "    3:'2015_concluintes',\n",
    "    4:'2016_vagas',\n",
    "    6:'2016_concluintes',\n",
    "    7:'2017_vagas',\n",
    "    9:'2017_concluintes',\n",
    "    10:'2018_vagas',\n",
    "    12:'2018_concluintes',\n",
    "}\n",
    "\n",
    "g2 = g2.rename(columns=rename_cols)\n",
    "g2 = g2.drop(columns=[2,5,8,11])"
   ]
  },
  {
   "cell_type": "code",
   "execution_count": 900,
   "metadata": {},
   "outputs": [],
   "source": [
    "df2 = pd.concat([g2,g1], axis=0)\n",
    "\n",
    "#remove some lines\n",
    "mask = (df2['curso']!='') & (df2['curso']!='Unidade') & (df2['curso']!='Total Unidade') & (df2['curso']!='TOTAL')\n",
    "df2 = df2[mask]\n",
    "\n",
    "#remove the unitys\n",
    "cols = df2.columns[1:].tolist()\n",
    "mask = (df2[cols[0]]=='') & (df2[cols[1]]=='') & (df2[cols[2]]=='') & (df2[cols[3]]=='')& \\\n",
    "       (df2[cols[4]]=='') & (df2[cols[5]]=='') & (df2[cols[6]]=='') & (df2[cols[7]]=='')\n",
    "\n",
    "df2 = df2[np.logical_not(mask)]\n"
   ]
  },
  {
   "cell_type": "code",
   "execution_count": 903,
   "metadata": {},
   "outputs": [],
   "source": [
    "for col in cols:\n",
    "    df2[col] = pd.to_numeric(df2[col], errors='coerce')"
   ]
  },
  {
   "cell_type": "code",
   "execution_count": 106,
   "metadata": {},
   "outputs": [],
   "source": [
    "df_vagas = df2[['curso','2015_vagas','2016_vagas','2017_vagas','2018_vagas']]\n",
    "df_concluintes = df2[['curso','2015_concluintes','2016_concluintes','2017_concluintes','2018_concluintes']]"
   ]
  },
  {
   "cell_type": "code",
   "execution_count": 108,
   "metadata": {},
   "outputs": [],
   "source": [
    "cols_rename = {\n",
    "    '2015_vagas':2015,\n",
    "    '2016_vagas':2016,\n",
    "    '2017_vagas':2017,\n",
    "    '2018_vagas':2018\n",
    "}\n",
    "df_vagas = df_vagas.rename(columns=cols_rename)\n",
    "\n",
    "cols_rename = {\n",
    "    '2015_concluintes':2015,\n",
    "    '2016_concluintes':2016,\n",
    "    '2017_concluintes':2017,\n",
    "    '2018_concluintes':2018\n",
    "}\n",
    "df_concluintes = df_concluintes.rename(columns=cols_rename)"
   ]
  },
  {
   "cell_type": "code",
   "execution_count": 113,
   "metadata": {},
   "outputs": [],
   "source": [
    "# df_vagas.to_excel('usp_alunos_vagas_2015_to_2018.xlsx', index=False, encoding='utf-8')"
   ]
  },
  {
   "cell_type": "code",
   "execution_count": 114,
   "metadata": {},
   "outputs": [],
   "source": [
    "# df_concluintes.to_excel('usp_alunos_concluintes_2015_to_2018.xlsx', index=False, encoding='utf-8')"
   ]
  },
  {
   "cell_type": "markdown",
   "metadata": {
    "toc-hr-collapsed": false
   },
   "source": [
    "## Matriculados 2018"
   ]
  },
  {
   "cell_type": "code",
   "execution_count": 263,
   "metadata": {},
   "outputs": [],
   "source": [
    "dd = camelot.read_pdf('files/usp_anuario_2019.pdf', pages='59-93', flavor='stream',table_areas=['0,557,1000,50'])"
   ]
  },
  {
   "cell_type": "code",
   "execution_count": 264,
   "metadata": {},
   "outputs": [],
   "source": [
    "# %matplotlib inline\n",
    "# for i in range(len(dd)):\n",
    "#     fig = camelot.plot(dd[i], kind='text')\n",
    "#     size = fig.get_size_inches()*fig.dpi # size in pixels\n",
    "# #     print(size)\n",
    "#     plt.show()"
   ]
  },
  {
   "cell_type": "code",
   "execution_count": 265,
   "metadata": {},
   "outputs": [],
   "source": [
    "df = pd.DataFrame()\n",
    "\n",
    "for i in range(len(dd)):\n",
    "    df = pd.concat([df,dd[i].df], axis=0)\n",
    "    \n",
    "df = df.reset_index(drop=True)\n",
    "\n",
    "# df.loc[85:116] = df.loc[85:116].shift(1,axis=1)"
   ]
  },
  {
   "cell_type": "code",
   "execution_count": 266,
   "metadata": {},
   "outputs": [],
   "source": [
    "mask = df[8].isnull()\n",
    "g1 = df[mask]\n",
    "\n",
    "g2 = df[np.logical_not(mask)]\n",
    "\n",
    "mask = g1[7].isnull()\n",
    "g3 = g1[mask]\n",
    "\n",
    "g1 = g1[np.logical_not(mask)]"
   ]
  },
  {
   "cell_type": "code",
   "execution_count": 267,
   "metadata": {},
   "outputs": [],
   "source": [
    "g1 = g1[[0,1,6,7]]\n",
    "\n",
    "cols_rename = {\n",
    "    0:'curso',\n",
    "    1:'habilitacao',\n",
    "    6:'1_sem',\n",
    "    7:'2_sem'\n",
    "}\n",
    "\n",
    "g1 = g1.rename(columns=cols_rename)\n",
    "\n",
    "g2 = g2[[0,1,7,8]]\n",
    "\n",
    "cols_rename = {\n",
    "    0:'curso',\n",
    "    1:'habilitacao',\n",
    "    7:'1_sem',\n",
    "    8:'2_sem'\n",
    "}\n",
    "\n",
    "g2 = g2.rename(columns=cols_rename)\n",
    "\n",
    "g3 = g3[[0,1,5,6]]\n",
    "g3[1]=g3[0]\n",
    "\n",
    "cols_rename = {\n",
    "    0:'curso',\n",
    "    1:'habilitacao',\n",
    "    5:'1_sem',\n",
    "    6:'2_sem'\n",
    "}\n",
    "\n",
    "g3 = g3.rename(columns=cols_rename)"
   ]
  },
  {
   "cell_type": "code",
   "execution_count": 268,
   "metadata": {},
   "outputs": [],
   "source": [
    "mask = (g1['curso']!='Unidade\\nCurso / Habilitação') & (g1['curso']!='A - Ensino e Pesquisa') & (g1['1_sem']!='Total')\n",
    "g1 = g1[mask]\n",
    "\n",
    "mask = (g1['curso']=='') & (g1['1_sem']=='') & (g1['2_sem']=='')\n",
    "g1 = g1[np.logical_not(mask)]\n",
    "\n",
    "\n",
    "mask = g1['curso'].str.isupper().fillna(False)\n",
    "g1 = g1[np.logical_not(mask)]\n",
    "\n",
    "mask = (g1['habilitacao']!='Total Curso') & (g1['habilitacao']!='Total Unidade')\n",
    "g1 = g1[mask]\n",
    "\n",
    "g1 = g1.drop(index=[1078,1079,1080])\n",
    "\n",
    "mask = (g1['curso'].notnull()) & (g1['habilitacao']=='') & (g1['1_sem']=='') & (g1['2_sem']=='')\n",
    "\n",
    "g1['curso_f'] = np.where(mask, g1['curso'],np.nan)\n",
    "g1['curso'] = np.where(np.logical_not(mask), g1['curso'],np.nan)\n",
    "\n",
    "g1['curso_f'] = g1['curso_f'].fillna(method='ffill')\n",
    "\n",
    "mask = g1['curso'].notnull()\n",
    "g1 = g1[mask]\n",
    "\n",
    "g1['habilitacao'] = g1['curso']\n",
    "g1['curso'] = g1['curso_f']\n",
    "\n",
    "g1 = g1.drop(columns=['curso_f'])"
   ]
  },
  {
   "cell_type": "code",
   "execution_count": 269,
   "metadata": {},
   "outputs": [],
   "source": [
    "mask = (g2['curso']!='Unidade\\nCurso / Habilitação') & (g2['curso']!='A - Ensino e Pesquisa') & (g2['1_sem']!='Total') & (g2['curso']!='Unidade')\n",
    "g2 = g2[mask]\n",
    "\n",
    "mask = (g2['curso']=='') & (g2['1_sem']=='') & (g2['2_sem']=='')\n",
    "g2 = g2[np.logical_not(mask)]\n",
    "\n",
    "\n",
    "mask = g2['curso'].str.isupper().fillna(False)\n",
    "g2 = g2[np.logical_not(mask)]\n",
    "\n",
    "mask = (g2['habilitacao']!='Total Curso') & (g2['habilitacao']!='Total Unidade')\n",
    "g2 = g2[mask]\n",
    "\n",
    "\n",
    "g2['curso'] = np.where(g2['curso']=='', np.nan, g2['curso'])\n",
    "\n",
    "g2['curso'] = g2['curso'].fillna(method='ffill')\n",
    "mask = (g2['habilitacao']!='')\n",
    "g2 = g2[mask]"
   ]
  },
  {
   "cell_type": "code",
   "execution_count": 270,
   "metadata": {},
   "outputs": [],
   "source": [
    "mask = (g3['curso']!='Unidade\\nCurso / Habilitação') & (g3['curso']!='A - Ensino e Pesquisa') & (g3['1_sem']!='Total') & (g3['curso']!='Unidade')\n",
    "g3 = g3[mask]\n",
    "\n",
    "mask = (g3['curso']=='') & (g3['1_sem']=='') & (g3['2_sem']=='')\n",
    "g3 = g3[np.logical_not(mask)]\n",
    "\n",
    "\n",
    "mask = g3['curso'].str.isupper().fillna(False)\n",
    "g3 = g3[np.logical_not(mask)]\n",
    "\n",
    "mask = (g3['habilitacao']!='Total Curso') & (g3['habilitacao']!='Total Unidade') & (g3['2_sem']!='')\n",
    "g3 = g3[mask]\n",
    "g3['curso']='Letras'"
   ]
  },
  {
   "cell_type": "code",
   "execution_count": 271,
   "metadata": {},
   "outputs": [],
   "source": [
    "df2 = pd.concat([g1,g2,g3], axis=0)\n",
    "\n",
    "mask = (df2['curso']!='Unidade\\nCurso / Habilitação') & (df2['curso']!='A - Ensino e Pesquisa') & (df2['1_sem']!='Total')\n",
    "df2 = df2[mask]\n",
    "\n",
    "mask = (df2['curso']=='') & (df2['1_sem']=='') & (df2['2_sem']=='')\n",
    "df2 = df2[np.logical_not(mask)]\n",
    "\n",
    "# df2['ano_base']=2018"
   ]
  },
  {
   "cell_type": "code",
   "execution_count": 272,
   "metadata": {},
   "outputs": [],
   "source": [
    "df2['1_sem'] = pd.to_numeric(df2['1_sem'], errors='coerce').fillna(0).astype(int)\n",
    "df2['2_sem'] = pd.to_numeric(df2['2_sem'], errors='coerce').fillna(0).astype(int)\n",
    "\n",
    "df2[2018]=df2['1_sem']+df2['2_sem']\n",
    "\n",
    "df_18 = df2.drop(columns=['1_sem','2_sem'])"
   ]
  },
  {
   "cell_type": "code",
   "execution_count": 273,
   "metadata": {},
   "outputs": [],
   "source": [
    "df2.to_excel('dados/usp_matriculados_2018.xlsx', index=False, encoding='utf-8')"
   ]
  },
  {
   "cell_type": "code",
   "execution_count": null,
   "metadata": {},
   "outputs": [],
   "source": []
  },
  {
   "cell_type": "markdown",
   "metadata": {
    "toc-hr-collapsed": false
   },
   "source": [
    "## Matriculados 2017"
   ]
  },
  {
   "cell_type": "code",
   "execution_count": 216,
   "metadata": {},
   "outputs": [],
   "source": [
    "dd = camelot.read_pdf('files/usp_anuario_2018.pdf', pages='57-92', flavor='stream',table_areas=['0,557,1000,50'])"
   ]
  },
  {
   "cell_type": "code",
   "execution_count": 217,
   "metadata": {},
   "outputs": [],
   "source": [
    "df = pd.DataFrame()\n",
    "\n",
    "for i in range(len(dd)):\n",
    "    df = pd.concat([df,dd[i].df], axis=0)\n",
    "    \n",
    "df = df.reset_index(drop=True)\n",
    "\n",
    "# df.loc[85:116] = df.loc[85:116].shift(1,axis=1)"
   ]
  },
  {
   "cell_type": "code",
   "execution_count": 221,
   "metadata": {},
   "outputs": [],
   "source": [
    "mask = df[8].isnull()\n",
    "g1 = df[mask]\n",
    "\n",
    "g2 = df[np.logical_not(mask)]\n",
    "\n",
    "mask = g1[7].isnull()\n",
    "g3 = g1[mask]\n",
    "\n",
    "g1 = g1[np.logical_not(mask)]"
   ]
  },
  {
   "cell_type": "code",
   "execution_count": 222,
   "metadata": {},
   "outputs": [],
   "source": [
    "g1 = g1[[0,1,6,7]]\n",
    "\n",
    "cols_rename = {\n",
    "    0:'curso',\n",
    "    1:'habilitacao',\n",
    "    6:'1_sem',\n",
    "    7:'2_sem'\n",
    "}\n",
    "\n",
    "g1 = g1.rename(columns=cols_rename)\n",
    "\n",
    "g2 = g2[[0,1,7,8]]\n",
    "\n",
    "cols_rename = {\n",
    "    0:'curso',\n",
    "    1:'habilitacao',\n",
    "    7:'1_sem',\n",
    "    8:'2_sem'\n",
    "}\n",
    "\n",
    "g2 = g2.rename(columns=cols_rename)\n",
    "\n",
    "g3 = g3[[0,1,5,6]]\n",
    "g3[1]=g3[0]\n",
    "\n",
    "cols_rename = {\n",
    "    0:'curso',\n",
    "    1:'habilitacao',\n",
    "    5:'1_sem',\n",
    "    6:'2_sem'\n",
    "}\n",
    "\n",
    "g3 = g3.rename(columns=cols_rename)"
   ]
  },
  {
   "cell_type": "code",
   "execution_count": 225,
   "metadata": {},
   "outputs": [],
   "source": [
    "mask = (g1['curso']!='Unidade\\nCurso / Habilitação') & (g1['curso']!='A - Ensino e Pesquisa') & (g1['1_sem']!='Total')\n",
    "g1 = g1[mask]\n",
    "\n",
    "mask = (g1['curso']=='') & (g1['1_sem']=='') & (g1['2_sem']=='')\n",
    "g1 = g1[np.logical_not(mask)]\n",
    "\n",
    "\n",
    "mask = g1['curso'].str.isupper().fillna(False)\n",
    "g1 = g1[np.logical_not(mask)]\n",
    "\n",
    "mask = (g1['habilitacao']!='Total Curso') & (g1['habilitacao']!='Total Unidade')\n",
    "g1 = g1[mask]\n",
    "\n",
    "g1 = g1.drop(index=[1092,1093,1094])\n",
    "\n",
    "mask = (g1['curso'].notnull()) & (g1['habilitacao']=='') & (g1['1_sem']=='') & (g1['2_sem']=='')\n",
    "\n",
    "g1['curso_f'] = np.where(mask, g1['curso'],np.nan)\n",
    "g1['curso'] = np.where(np.logical_not(mask), g1['curso'],np.nan)\n",
    "\n",
    "g1['curso_f'] = g1['curso_f'].fillna(method='ffill')\n",
    "\n",
    "mask = g1['curso'].notnull()\n",
    "g1 = g1[mask]\n",
    "\n",
    "g1['habilitacao'] = g1['curso']\n",
    "g1['curso'] = g1['curso_f']\n",
    "\n",
    "g1 = g1.drop(columns=['curso_f'])"
   ]
  },
  {
   "cell_type": "code",
   "execution_count": 227,
   "metadata": {},
   "outputs": [],
   "source": [
    "mask = (g2['curso']!='Unidade\\nCurso / Habilitação') & (g2['curso']!='A - Ensino e Pesquisa') & (g2['1_sem']!='Total') & (g2['curso']!='Unidade')\n",
    "g2 = g2[mask]\n",
    "\n",
    "mask = (g2['curso']=='') & (g2['1_sem']=='') & (g2['2_sem']=='')\n",
    "g2 = g2[np.logical_not(mask)]\n",
    "\n",
    "\n",
    "mask = g2['curso'].str.isupper().fillna(False)\n",
    "g2 = g2[np.logical_not(mask)]\n",
    "\n",
    "mask = (g2['habilitacao']!='Total Curso') & (g2['habilitacao']!='Total Unidade')\n",
    "g2 = g2[mask]\n",
    "\n",
    "\n",
    "g2['curso'] = np.where(g2['curso']=='', np.nan, g2['curso'])\n",
    "\n",
    "g2['curso'] = g2['curso'].fillna(method='ffill')\n",
    "mask = (g2['habilitacao']!='')\n",
    "g2 = g2[mask]"
   ]
  },
  {
   "cell_type": "code",
   "execution_count": 229,
   "metadata": {},
   "outputs": [],
   "source": [
    "mask = (g3['curso']!='Unidade\\nCurso / Habilitação') & (g3['curso']!='A - Ensino e Pesquisa') & (g3['1_sem']!='Total') & (g3['curso']!='Unidade')\n",
    "g3 = g3[mask]\n",
    "\n",
    "mask = (g3['curso']=='') & (g3['1_sem']=='') & (g3['2_sem']=='')\n",
    "g3 = g3[np.logical_not(mask)]\n",
    "\n",
    "\n",
    "mask = g3['curso'].str.isupper().fillna(False)\n",
    "g3 = g3[np.logical_not(mask)]\n",
    "\n",
    "mask = (g3['habilitacao']!='Total Curso') & (g3['habilitacao']!='Total Unidade') & (g3['2_sem']!='')\n",
    "g3 = g3[mask]\n",
    "g3['curso']='Letras'"
   ]
  },
  {
   "cell_type": "code",
   "execution_count": 256,
   "metadata": {},
   "outputs": [],
   "source": [
    "df2 = pd.concat([g1,g2,g3], axis=0)\n",
    "\n",
    "mask = (df2['curso']!='Unidade\\nCurso / Habilitação') & (df2['curso']!='A - Ensino e Pesquisa') & (df2['1_sem']!='Total')\n",
    "df2 = df2[mask]\n",
    "\n",
    "mask = (df2['curso']=='') & (df2['1_sem']=='') & (df2['2_sem']=='')\n",
    "df2 = df2[np.logical_not(mask)]\n",
    "\n",
    "# df2['ano_base']=2017"
   ]
  },
  {
   "cell_type": "code",
   "execution_count": 257,
   "metadata": {},
   "outputs": [],
   "source": [
    "df2['1_sem'] = pd.to_numeric(df2['1_sem'], errors='coerce').fillna(0).astype(int)\n",
    "df2['2_sem'] = pd.to_numeric(df2['2_sem'], errors='coerce').fillna(0).astype(int)\n",
    "\n",
    "df2[2017]=df2['1_sem']+df2['2_sem']\n",
    "\n",
    "df_17 = df2.drop(columns=['1_sem','2_sem'])"
   ]
  },
  {
   "cell_type": "code",
   "execution_count": 261,
   "metadata": {},
   "outputs": [],
   "source": [
    "# df2.to_excel('usp_matriculados_2017.xlsx', index=False, encoding='utf-8')"
   ]
  },
  {
   "cell_type": "code",
   "execution_count": null,
   "metadata": {},
   "outputs": [],
   "source": []
  },
  {
   "cell_type": "code",
   "execution_count": null,
   "metadata": {},
   "outputs": [],
   "source": []
  },
  {
   "cell_type": "markdown",
   "metadata": {
    "toc-hr-collapsed": false
   },
   "source": [
    "## Matriculados 2016"
   ]
  },
  {
   "cell_type": "code",
   "execution_count": 274,
   "metadata": {},
   "outputs": [],
   "source": [
    "dd = camelot.read_pdf('files/usp_anuario_2017.pdf', pages='55-89', flavor='stream',table_areas=['0,557,1000,50'])"
   ]
  },
  {
   "cell_type": "code",
   "execution_count": 275,
   "metadata": {},
   "outputs": [],
   "source": [
    "df = pd.DataFrame()\n",
    "\n",
    "for i in range(len(dd)):\n",
    "    df = pd.concat([df,dd[i].df], axis=0)\n",
    "    \n",
    "df = df.reset_index(drop=True)\n",
    "\n",
    "# df.loc[85:116] = df.loc[85:116].shift(1,axis=1)"
   ]
  },
  {
   "cell_type": "code",
   "execution_count": 284,
   "metadata": {},
   "outputs": [],
   "source": [
    "mask = df[8].isnull()\n",
    "g1 = df[mask]\n",
    "\n",
    "g2 = df[np.logical_not(mask)]\n",
    "\n",
    "mask = g1[7].isnull()\n",
    "g3 = g1[mask]\n",
    "\n",
    "g1 = g1[np.logical_not(mask)]"
   ]
  },
  {
   "cell_type": "code",
   "execution_count": 285,
   "metadata": {},
   "outputs": [],
   "source": [
    "g1 = g1[[0,1,6,7]]\n",
    "\n",
    "cols_rename = {\n",
    "    0:'curso',\n",
    "    1:'habilitacao',\n",
    "    6:'1_sem',\n",
    "    7:'2_sem'\n",
    "}\n",
    "\n",
    "g1 = g1.rename(columns=cols_rename)\n",
    "\n",
    "g2 = g2[[0,1,7,8]]\n",
    "\n",
    "cols_rename = {\n",
    "    0:'curso',\n",
    "    1:'habilitacao',\n",
    "    7:'1_sem',\n",
    "    8:'2_sem'\n",
    "}\n",
    "\n",
    "g2 = g2.rename(columns=cols_rename)\n",
    "\n",
    "g3 = g3[[0,1,5,6]]\n",
    "g3[1]=g3[0]\n",
    "\n",
    "cols_rename = {\n",
    "    0:'curso',\n",
    "    1:'habilitacao',\n",
    "    5:'1_sem',\n",
    "    6:'2_sem'\n",
    "}\n",
    "\n",
    "g3 = g3.rename(columns=cols_rename)"
   ]
  },
  {
   "cell_type": "code",
   "execution_count": 286,
   "metadata": {},
   "outputs": [],
   "source": [
    "mask = (g1['curso']!='Unidade\\nCurso / Habilitação') & (g1['curso']!='A - Ensino e Pesquisa') & (g1['1_sem']!='Total')\n",
    "g1 = g1[mask]\n",
    "\n",
    "mask = (g1['curso']=='') & (g1['1_sem']=='') & (g1['2_sem']=='')\n",
    "g1 = g1[np.logical_not(mask)]\n",
    "\n",
    "\n",
    "mask = g1['curso'].str.isupper().fillna(False)\n",
    "g1 = g1[np.logical_not(mask)]\n",
    "\n",
    "mask = (g1['habilitacao']!='Total Curso') & (g1['habilitacao']!='Total Unidade')\n",
    "g1 = g1[mask]\n",
    "\n",
    "g1 = g1.drop(index=[1058,1059,1060])\n",
    "\n",
    "mask = (g1['curso'].notnull()) & (g1['habilitacao']=='') & (g1['1_sem']=='') & (g1['2_sem']=='')\n",
    "\n",
    "g1['curso_f'] = np.where(mask, g1['curso'],np.nan)\n",
    "g1['curso'] = np.where(np.logical_not(mask), g1['curso'],np.nan)\n",
    "\n",
    "g1['curso_f'] = g1['curso_f'].fillna(method='ffill')\n",
    "\n",
    "mask = g1['curso'].notnull()\n",
    "g1 = g1[mask]\n",
    "\n",
    "g1['habilitacao'] = g1['curso']\n",
    "g1['curso'] = g1['curso_f']\n",
    "\n",
    "g1 = g1.drop(columns=['curso_f'])"
   ]
  },
  {
   "cell_type": "code",
   "execution_count": 288,
   "metadata": {},
   "outputs": [],
   "source": [
    "mask = (g2['curso']!='Unidade\\nCurso / Habilitação') & (g2['curso']!='A - Ensino e Pesquisa') & (g2['1_sem']!='Total') & (g2['curso']!='Unidade')\n",
    "g2 = g2[mask]\n",
    "\n",
    "mask = (g2['curso']=='') & (g2['1_sem']=='') & (g2['2_sem']=='')\n",
    "g2 = g2[np.logical_not(mask)]\n",
    "\n",
    "\n",
    "mask = g2['curso'].str.isupper().fillna(False)\n",
    "g2 = g2[np.logical_not(mask)]\n",
    "\n",
    "mask = (g2['habilitacao']!='Total Curso') & (g2['habilitacao']!='Total Unidade')\n",
    "g2 = g2[mask]\n",
    "\n",
    "\n",
    "g2['curso'] = np.where(g2['curso']=='', np.nan, g2['curso'])\n",
    "\n",
    "g2['curso'] = g2['curso'].fillna(method='ffill')\n",
    "mask = (g2['habilitacao']!='')\n",
    "g2 = g2[mask]"
   ]
  },
  {
   "cell_type": "code",
   "execution_count": 289,
   "metadata": {},
   "outputs": [],
   "source": [
    "mask = (g3['curso']!='Unidade\\nCurso / Habilitação') & (g3['curso']!='A - Ensino e Pesquisa') & (g3['1_sem']!='Total') & (g3['curso']!='Unidade')\n",
    "g3 = g3[mask]\n",
    "\n",
    "mask = (g3['curso']=='') & (g3['1_sem']=='') & (g3['2_sem']=='')\n",
    "g3 = g3[np.logical_not(mask)]\n",
    "\n",
    "\n",
    "mask = g3['curso'].str.isupper().fillna(False)\n",
    "g3 = g3[np.logical_not(mask)]\n",
    "\n",
    "mask = (g3['habilitacao']!='Total Curso') & (g3['habilitacao']!='Total Unidade') & (g3['2_sem']!='')\n",
    "g3 = g3[mask]\n",
    "g3['curso']='Letras'"
   ]
  },
  {
   "cell_type": "code",
   "execution_count": 298,
   "metadata": {},
   "outputs": [],
   "source": [
    "df2 = pd.concat([g1,g2,g3], axis=0)\n",
    "\n",
    "mask = (df2['curso']!='Unidade\\nCurso / Habilitação') & (df2['curso']!='A - Ensino e Pesquisa') & (df2['1_sem']!='Total')\n",
    "df2 = df2[mask]\n",
    "\n",
    "mask = (df2['curso']=='') & (df2['1_sem']=='') & (df2['2_sem']=='')\n",
    "df2 = df2[np.logical_not(mask)]\n",
    "\n",
    "# df2['ano_base']=2018"
   ]
  },
  {
   "cell_type": "code",
   "execution_count": 299,
   "metadata": {},
   "outputs": [],
   "source": [
    "df2['1_sem'] = pd.to_numeric(df2['1_sem'], errors='coerce').fillna(0).astype(int)\n",
    "df2['2_sem'] = pd.to_numeric(df2['2_sem'], errors='coerce').fillna(0).astype(int)\n",
    "\n",
    "df2[2016]=df2['1_sem']+df2['2_sem']\n",
    "\n",
    "df_16 = df2.drop(columns=['1_sem','2_sem'])"
   ]
  },
  {
   "cell_type": "code",
   "execution_count": 300,
   "metadata": {},
   "outputs": [],
   "source": [
    "# df2.to_excel('dados/usp_matriculados_2016.xlsx', index=False, encoding='utf-8')"
   ]
  },
  {
   "cell_type": "code",
   "execution_count": null,
   "metadata": {},
   "outputs": [],
   "source": []
  },
  {
   "cell_type": "markdown",
   "metadata": {},
   "source": [
    "### Merge All Years"
   ]
  },
  {
   "cell_type": "code",
   "execution_count": 301,
   "metadata": {},
   "outputs": [],
   "source": [
    "df_merge = pd.merge(df_16,df_17, how='outer', on = ['curso', 'habilitacao'])\n",
    "df_merge = pd.merge(df_merge,df_18, how='outer', on = ['curso', 'habilitacao'])"
   ]
  },
  {
   "cell_type": "code",
   "execution_count": 307,
   "metadata": {},
   "outputs": [],
   "source": [
    "# df_merge.to_excel('dados/usp_alunos_matriculados.xlsx', index=False, encoding='utf-8')"
   ]
  },
  {
   "cell_type": "code",
   "execution_count": null,
   "metadata": {},
   "outputs": [],
   "source": []
  },
  {
   "cell_type": "code",
   "execution_count": null,
   "metadata": {},
   "outputs": [],
   "source": []
  },
  {
   "cell_type": "code",
   "execution_count": null,
   "metadata": {},
   "outputs": [],
   "source": []
  },
  {
   "cell_type": "markdown",
   "metadata": {},
   "source": [
    "# UNESP"
   ]
  },
  {
   "cell_type": "markdown",
   "metadata": {},
   "source": [
    "## Matriculados"
   ]
  },
  {
   "cell_type": "code",
   "execution_count": 2,
   "metadata": {},
   "outputs": [],
   "source": [
    "dd = camelot.read_pdf('files/unesp_anuario_2019.pdf', pages='30-38', flavor='stream',table_regions=['64,480,800,28'])"
   ]
  },
  {
   "cell_type": "code",
   "execution_count": 9,
   "metadata": {},
   "outputs": [],
   "source": [
    "df = pd.DataFrame()\n",
    "\n",
    "for i in range(len(dd)):\n",
    "    df = pd.concat([df,dd[i].df], axis=0)\n",
    "    \n",
    "df = df.reset_index(drop=True)\n",
    "\n",
    "# df.loc[85:116] = df.loc[85:116].shift(1,axis=1)"
   ]
  },
  {
   "cell_type": "code",
   "execution_count": 10,
   "metadata": {},
   "outputs": [],
   "source": [
    "ranges = [[0,34],[133,164],[196,285]]\n",
    "\n",
    "g1 = pd.DataFrame()\n",
    "g2 = df.copy()\n",
    "for rang in ranges:\n",
    "    i1 = df.loc[rang[0]:rang[1]]\n",
    "    g1 = pd.concat([g1,i1], axis=0)\n",
    "    g2 = g2.drop(index=[i for i in range(rang[0],rang[1]+1)])\n",
    "\n",
    "mask = g1[18].isnull()\n",
    "\n",
    "g3 = g1[mask]\n",
    "g1 = g1[np.logical_not(mask)]"
   ]
  },
  {
   "cell_type": "code",
   "execution_count": 11,
   "metadata": {},
   "outputs": [],
   "source": [
    "g1 = g1[[2,3,6,9,12,15,18]]\n",
    "\n",
    "rename_cols = {\n",
    "    2:'curso',\n",
    "    3:'periodo',\n",
    "    6:2014,\n",
    "    9:2015,\n",
    "    12:2016,\n",
    "    15:2017,\n",
    "    18:2018,\n",
    "\n",
    "}\n",
    "g1 = g1.rename(columns=rename_cols)\n",
    "\n",
    "\n",
    "g2 = g2[[1,2,5,8,11,14,17]]\n",
    "\n",
    "rename_cols = {\n",
    "    1:'curso',\n",
    "    2:'periodo',\n",
    "    5:2014,\n",
    "    8:2015,\n",
    "    11:2016,\n",
    "    14:2017,\n",
    "    17:2018,\n",
    "\n",
    "}\n",
    "g2 = g2.rename(columns=rename_cols)\n",
    "\n",
    "\n",
    "g3 = g3[[2,3,5,8,11,14,17]]\n",
    "\n",
    "rename_cols = {\n",
    "    2:'curso',\n",
    "    3:'periodo',\n",
    "    5:2014,\n",
    "    8:2015,\n",
    "    11:2016,\n",
    "    14:2017,\n",
    "    17:2018,\n",
    "\n",
    "}\n",
    "g3 = g3.rename(columns=rename_cols)"
   ]
  },
  {
   "cell_type": "code",
   "execution_count": 12,
   "metadata": {},
   "outputs": [],
   "source": [
    "df2 = pd.concat([g1,g2,g3], axis=0)"
   ]
  },
  {
   "cell_type": "code",
   "execution_count": 13,
   "metadata": {},
   "outputs": [],
   "source": [
    "mask = (df2['curso']!='Cursos') & (df2['curso']!='Subtotal') & (df2['curso']!='Total') & (df2['periodo']!='Período') & (df2['periodo']!='Total Geral') & (df2[2016]!='ALUNOS MATRICULADOS')\n",
    "\n",
    "df2 = df2[mask]\n",
    "\n",
    "mask = (df2['curso']=='') & (df2['periodo']=='') & (df2[2014]=='') & (df2[2015]=='') & (df2[2016]=='') & (df2[2017]=='') & (df2[2018]=='')\n",
    "\n",
    "df2 = df2[np.logical_not(mask)]"
   ]
  },
  {
   "cell_type": "code",
   "execution_count": 17,
   "metadata": {},
   "outputs": [],
   "source": [
    "df = qg(df2)"
   ]
  },
  {
   "cell_type": "code",
   "execution_count": 28,
   "metadata": {},
   "outputs": [],
   "source": [
    "df2 = df.get_changed_df()"
   ]
  },
  {
   "cell_type": "code",
   "execution_count": 31,
   "metadata": {},
   "outputs": [],
   "source": [
    "# df2.to_excel('unesp_alunos_matriculados_2014_to_2018.xlsx', index=False, encoding='tf-8')"
   ]
  },
  {
   "cell_type": "code",
   "execution_count": null,
   "metadata": {},
   "outputs": [],
   "source": []
  },
  {
   "cell_type": "markdown",
   "metadata": {},
   "source": [
    "## Concluintes"
   ]
  },
  {
   "cell_type": "code",
   "execution_count": 23,
   "metadata": {},
   "outputs": [],
   "source": [
    "dd = camelot.read_pdf('files/unesp_anuario_2019.pdf', pages='41-51', flavor='stream',table_areas=['114,520,758,51'])"
   ]
  },
  {
   "cell_type": "code",
   "execution_count": 25,
   "metadata": {},
   "outputs": [],
   "source": [
    "df = pd.DataFrame()\n",
    "\n",
    "for i in range(len(dd)):\n",
    "    df = pd.concat([df,dd[i].df], axis=0)\n",
    "    \n",
    "df = df.reset_index(drop=True)\n",
    "\n",
    "# df.loc[85:116] = df.loc[85:116].shift(1,axis=1)"
   ]
  },
  {
   "cell_type": "code",
   "execution_count": 27,
   "metadata": {},
   "outputs": [
    {
     "data": {
      "text/html": [
       "<div>\n",
       "<style scoped>\n",
       "    .dataframe tbody tr th:only-of-type {\n",
       "        vertical-align: middle;\n",
       "    }\n",
       "\n",
       "    .dataframe tbody tr th {\n",
       "        vertical-align: top;\n",
       "    }\n",
       "\n",
       "    .dataframe thead th {\n",
       "        text-align: right;\n",
       "    }\n",
       "</style>\n",
       "<table border=\"1\" class=\"dataframe\">\n",
       "  <thead>\n",
       "    <tr style=\"text-align: right;\">\n",
       "      <th></th>\n",
       "      <th>0</th>\n",
       "      <th>1</th>\n",
       "      <th>2</th>\n",
       "      <th>3</th>\n",
       "      <th>4</th>\n",
       "      <th>5</th>\n",
       "      <th>6</th>\n",
       "      <th>7</th>\n",
       "      <th>8</th>\n",
       "      <th>9</th>\n",
       "      <th>10</th>\n",
       "      <th>11</th>\n",
       "      <th>12</th>\n",
       "      <th>13</th>\n",
       "      <th>14</th>\n",
       "      <th>15</th>\n",
       "      <th>16</th>\n",
       "    </tr>\n",
       "  </thead>\n",
       "  <tbody>\n",
       "    <tr>\n",
       "      <th>0</th>\n",
       "      <td></td>\n",
       "      <td>Período</td>\n",
       "      <td></td>\n",
       "      <td>2014</td>\n",
       "      <td></td>\n",
       "      <td></td>\n",
       "      <td>2015</td>\n",
       "      <td></td>\n",
       "      <td></td>\n",
       "      <td>2016</td>\n",
       "      <td></td>\n",
       "      <td></td>\n",
       "      <td>2017</td>\n",
       "      <td></td>\n",
       "      <td></td>\n",
       "      <td>2018</td>\n",
       "      <td></td>\n",
       "    </tr>\n",
       "    <tr>\n",
       "      <th>1</th>\n",
       "      <td>Cursos</td>\n",
       "      <td></td>\n",
       "      <td>F</td>\n",
       "      <td>M</td>\n",
       "      <td>Total</td>\n",
       "      <td>F</td>\n",
       "      <td>M</td>\n",
       "      <td>Total</td>\n",
       "      <td>F</td>\n",
       "      <td>M</td>\n",
       "      <td>Total</td>\n",
       "      <td>F</td>\n",
       "      <td>M</td>\n",
       "      <td>Total</td>\n",
       "      <td>F</td>\n",
       "      <td>M</td>\n",
       "      <td>Total</td>\n",
       "    </tr>\n",
       "    <tr>\n",
       "      <th>2</th>\n",
       "      <td>Medicina Veterinária</td>\n",
       "      <td>I</td>\n",
       "      <td>24</td>\n",
       "      <td>7</td>\n",
       "      <td>31</td>\n",
       "      <td>25</td>\n",
       "      <td>7</td>\n",
       "      <td>32</td>\n",
       "      <td>36</td>\n",
       "      <td>12</td>\n",
       "      <td>48</td>\n",
       "      <td>42</td>\n",
       "      <td>17</td>\n",
       "      <td>59</td>\n",
       "      <td>28</td>\n",
       "      <td>4</td>\n",
       "      <td>32</td>\n",
       "    </tr>\n",
       "    <tr>\n",
       "      <th>3</th>\n",
       "      <td>Subtotal</td>\n",
       "      <td></td>\n",
       "      <td>24</td>\n",
       "      <td>7</td>\n",
       "      <td>31</td>\n",
       "      <td>25</td>\n",
       "      <td>7</td>\n",
       "      <td>32</td>\n",
       "      <td>36</td>\n",
       "      <td>12</td>\n",
       "      <td>48</td>\n",
       "      <td>42</td>\n",
       "      <td>17</td>\n",
       "      <td>59</td>\n",
       "      <td>28</td>\n",
       "      <td>4</td>\n",
       "      <td>32</td>\n",
       "    </tr>\n",
       "    <tr>\n",
       "      <th>4</th>\n",
       "      <td>Odontologia</td>\n",
       "      <td>I</td>\n",
       "      <td>43</td>\n",
       "      <td>21</td>\n",
       "      <td>64</td>\n",
       "      <td>39</td>\n",
       "      <td>23</td>\n",
       "      <td>62</td>\n",
       "      <td>63</td>\n",
       "      <td>15</td>\n",
       "      <td>78</td>\n",
       "      <td>52</td>\n",
       "      <td>19</td>\n",
       "      <td>71</td>\n",
       "      <td>49</td>\n",
       "      <td>19</td>\n",
       "      <td>68</td>\n",
       "    </tr>\n",
       "  </tbody>\n",
       "</table>\n",
       "</div>"
      ],
      "text/plain": [
       "                     0        1   2     3      4   5     6      7   8     9   \\\n",
       "0                        Período      2014             2015             2016   \n",
       "1                Cursos            F     M  Total   F     M  Total   F     M   \n",
       "2  Medicina Veterinária        I  24     7     31  25     7     32  36    12   \n",
       "3              Subtotal           24     7     31  25     7     32  36    12   \n",
       "4           Odontologia        I  43    21     64  39    23     62  63    15   \n",
       "\n",
       "      10  11    12     13  14    15     16  \n",
       "0             2017             2018         \n",
       "1  Total   F     M  Total   F     M  Total  \n",
       "2     48  42    17     59  28     4     32  \n",
       "3     48  42    17     59  28     4     32  \n",
       "4     78  52    19     71  49    19     68  "
      ]
     },
     "execution_count": 27,
     "metadata": {},
     "output_type": "execute_result"
    }
   ],
   "source": [
    "df.head()"
   ]
  },
  {
   "cell_type": "code",
   "execution_count": 51,
   "metadata": {},
   "outputs": [],
   "source": [
    "df2 = df[[0,1,4,7,10,13,16]]\n",
    "\n",
    "rename_cols = {\n",
    "    0:'curso',\n",
    "    1:'periodo',\n",
    "    4:2014,\n",
    "    7:2015,\n",
    "    10:2016,\n",
    "    13:2017,\n",
    "    16:2018,\n",
    "\n",
    "}\n",
    "df2 = df2.rename(columns=rename_cols)\n",
    "\n",
    "mask = (df2['curso']!='Cursos') & (df2['curso']!='Subtotal') & (df2['curso']!='Total') & (df2['periodo']!='Período') & (df2['curso']!='Total Geral') & (df2[2016]!='ALUNOS MATRICULADOS')\n",
    "\n",
    "df2 = df2[mask]\n"
   ]
  },
  {
   "cell_type": "code",
   "execution_count": 52,
   "metadata": {},
   "outputs": [],
   "source": [
    "cursos = df2['curso'].tolist()\n",
    "cursos_f = []\n",
    "for i in range(len(cursos)):\n",
    "    if cursos[i]=='':\n",
    "        cursos_f.append(cursos[i-1] + \" \" + cursos[i+1])\n",
    "    else:\n",
    "        cursos_f.append(cursos[i])\n",
    "\n",
    "df2['curso'] = cursos_f\n",
    "\n",
    "mask = df2[2018]!=''\n",
    "df2 = df2[mask]"
   ]
  },
  {
   "cell_type": "code",
   "execution_count": 54,
   "metadata": {},
   "outputs": [],
   "source": [
    "df3 = qg(df2)"
   ]
  },
  {
   "cell_type": "code",
   "execution_count": 58,
   "metadata": {},
   "outputs": [],
   "source": [
    "df2 = df3.get_changed_df()"
   ]
  },
  {
   "cell_type": "code",
   "execution_count": 62,
   "metadata": {},
   "outputs": [],
   "source": [
    "# df2.to_excel('unesp_alunos_concluintes_2014_to_2018.xlsx', index=False, encoding='utf-8')"
   ]
  },
  {
   "cell_type": "code",
   "execution_count": null,
   "metadata": {},
   "outputs": [],
   "source": []
  },
  {
   "cell_type": "code",
   "execution_count": null,
   "metadata": {},
   "outputs": [],
   "source": []
  },
  {
   "cell_type": "markdown",
   "metadata": {},
   "source": [
    "## Concluintes"
   ]
  },
  {
   "cell_type": "code",
   "execution_count": 73,
   "metadata": {},
   "outputs": [],
   "source": [
    "dd = camelot.read_pdf('files/unesp_anuario_2019.pdf', pages='176-183', flavor='stream',table_areas=['112,535,760,65'])"
   ]
  },
  {
   "cell_type": "code",
   "execution_count": 74,
   "metadata": {},
   "outputs": [],
   "source": [
    "# for i in range(len(dd)):\n",
    "#     camelot.plot(cdd[i], kind='text')\n",
    "#     plt.show()"
   ]
  },
  {
   "cell_type": "code",
   "execution_count": 82,
   "metadata": {},
   "outputs": [],
   "source": [
    "df = pd.DataFrame()\n",
    "\n",
    "for i in range(len(dd)):\n",
    "    df = pd.concat([df,dd[i].df], axis=0)\n",
    "    \n",
    "df = df.reset_index(drop=True)\n",
    "\n",
    "# df.loc[85:116] = df.loc[85:116].shift(1,axis=1)"
   ]
  },
  {
   "cell_type": "code",
   "execution_count": 84,
   "metadata": {},
   "outputs": [],
   "source": [
    "mask = df[25].isnull()\n",
    "g1 = df[mask]\n",
    "\n",
    "g2 = df[np.logical_not(mask)]\n",
    "\n",
    "\n",
    "g2 = g2[[0,1,7,11,15,19,23]]\n",
    "\n",
    "rename_cols = {\n",
    "    0:'curso',\n",
    "    1:'periodo',\n",
    "    7:2014,\n",
    "    11:2015,\n",
    "    15:2016,\n",
    "    19:2017,\n",
    "    23:2018,\n",
    "\n",
    "}\n",
    "g2 = g2.rename(columns=rename_cols)\n",
    "\n",
    "\n",
    "g1 = g1[[0,1,5,8,11,14,17]]\n",
    "\n",
    "rename_cols = {\n",
    "    0:'curso',\n",
    "    1:'periodo',\n",
    "    5:2014,\n",
    "    8:2015,\n",
    "    11:2016,\n",
    "    14:2017,\n",
    "    17:2018,\n",
    "\n",
    "}\n",
    "g1 = g1.rename(columns=rename_cols)\n"
   ]
  },
  {
   "cell_type": "code",
   "execution_count": 99,
   "metadata": {},
   "outputs": [],
   "source": [
    "df2 =  pd.concat([g2,g1], axis=0)\n",
    "\n",
    "mask = (df2['curso']!='Cursos') & (df2['curso']!='Total Humanas') & (df2['curso']!='Subtotal') & (df2['curso']!='Total') & (df2['periodo']!='Período') & (df2['curso']!='Total Geral') & (df2[2014]!='2.330')\n",
    "\n",
    "df2 = df2.drop(index=[0,70,267,284,291,292])\n",
    "\n",
    "\n",
    "df2 = df2[mask]\n"
   ]
  },
  {
   "cell_type": "code",
   "execution_count": 100,
   "metadata": {},
   "outputs": [],
   "source": [
    "cursos = df2['curso'].tolist()\n",
    "cursos_f = []\n",
    "for i in range(len(cursos)):\n",
    "    if cursos[i]=='':\n",
    "        cursos_f.append(cursos[i-1] + \" \" + cursos[i+1])\n",
    "    else:\n",
    "        cursos_f.append(cursos[i])\n",
    "\n",
    "df2['curso'] = cursos_f\n",
    "\n",
    "mask = df2[2018]!=''\n",
    "df2 = df2[mask]"
   ]
  },
  {
   "cell_type": "code",
   "execution_count": 103,
   "metadata": {},
   "outputs": [],
   "source": [
    "# df2.to_excel('unesp_alunos_vagas_2014_to_2018.xlsx', index=False, encoding='utf-8')"
   ]
  },
  {
   "cell_type": "code",
   "execution_count": null,
   "metadata": {},
   "outputs": [],
   "source": []
  },
  {
   "cell_type": "code",
   "execution_count": null,
   "metadata": {},
   "outputs": [],
   "source": []
  },
  {
   "cell_type": "code",
   "execution_count": null,
   "metadata": {},
   "outputs": [],
   "source": []
  },
  {
   "cell_type": "code",
   "execution_count": null,
   "metadata": {},
   "outputs": [],
   "source": []
  },
  {
   "cell_type": "code",
   "execution_count": null,
   "metadata": {},
   "outputs": [],
   "source": []
  },
  {
   "cell_type": "code",
   "execution_count": null,
   "metadata": {},
   "outputs": [],
   "source": []
  }
 ],
 "metadata": {
  "kernelspec": {
   "display_name": "Python 3",
   "language": "python",
   "name": "python3"
  },
  "language_info": {
   "codemirror_mode": {
    "name": "ipython",
    "version": 3
   },
   "file_extension": ".py",
   "mimetype": "text/x-python",
   "name": "python",
   "nbconvert_exporter": "python",
   "pygments_lexer": "ipython3",
   "version": "3.7.4"
  }
 },
 "nbformat": 4,
 "nbformat_minor": 2
}
